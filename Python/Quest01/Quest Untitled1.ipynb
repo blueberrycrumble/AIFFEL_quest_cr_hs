{
  "nbformat": 4,
  "nbformat_minor": 0,
  "metadata": {
    "colab": {
      "provenance": [],
      "include_colab_link": true
    },
    "kernelspec": {
      "name": "python3",
      "display_name": "Python 3"
    },
    "language_info": {
      "name": "python"
    }
  },
  "cells": [
    {
      "cell_type": "markdown",
      "metadata": {
        "id": "view-in-github",
        "colab_type": "text"
      },
      "source": [
        "<a href=\"https://colab.research.google.com/github/euns-tory/AIFFEL_quest_cr/blob/main/Python/Quest01/Quest%20Untitled1.ipynb\" target=\"_parent\"><img src=\"https://colab.research.google.com/assets/colab-badge.svg\" alt=\"Open In Colab\"/></a>"
      ]
    },
    {
      "cell_type": "code",
      "execution_count": null,
      "metadata": {
        "id": "0Nehee7CXEK4",
        "colab": {
          "base_uri": "https://localhost:8080/"
        },
        "outputId": "bdaba20b-9f83-4223-b9e5-ce325492f04c"
      },
      "outputs": [
        {
          "output_type": "stream",
          "name": "stdout",
          "text": [
            "입력값 : 미역국\n",
            "출력값 : 국역미\n",
            "입력하신 단어는 회문이 아닙니다.\n",
            "단어를 다시 입력하세요\n",
            "입력값 : 미역미\n",
            "출력값 : 미역미\n",
            "입력하신 단어는 회문이 맞습니다.\n"
          ]
        }
      ],
      "source": [
        "while True: #회문이 아닐 경우에 다시 입력하기 위해 while문으로 작성함\n",
        "  a=input('입력값 : ')\n",
        "  b=a[len(a)::-1] #마지막 글자부터 시작한다는 것을 명확히 하고자 len(a)을 입력함\n",
        "\n",
        "  if a==b:\n",
        "    print('출력값 : ',b,'\\n입력하신 단어는 회문이 맞습니다.', sep=\"\")\n",
        "    break\n",
        "  else:\n",
        "    print('출력값 : ',b,'\\n입력하신 단어는 회문이 아닙니다.\\n단어를 다시 입력하세요', sep=\"\")\n",
        "\n",
        "    #명령어를 사용하려니 기억이 안나고 세심하게 사용하기가 힘들어 앞으로 열심히 공부해야겠다고 생각함.\n"
      ]
    },
    {
      "cell_type": "code",
      "source": [],
      "metadata": {
        "id": "e1zKVkX4g7YQ"
      },
      "execution_count": null,
      "outputs": []
    }
  ]
}