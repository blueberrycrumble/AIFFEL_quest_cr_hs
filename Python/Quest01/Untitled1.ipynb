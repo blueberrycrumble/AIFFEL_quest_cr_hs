{
  "nbformat": 4,
  "nbformat_minor": 0,
  "metadata": {
    "colab": {
      "provenance": [],
      "include_colab_link": true
    },
    "kernelspec": {
      "name": "python3",
      "display_name": "Python 3"
    },
    "language_info": {
      "name": "python"
    }
  },
  "cells": [
    {
      "cell_type": "markdown",
      "metadata": {
        "id": "view-in-github",
        "colab_type": "text"
      },
      "source": [
        "<a href=\"https://colab.research.google.com/github/euns-tory/AIFFEL_quest_cr/blob/main/Python/Quest01/Untitled1.ipynb\" target=\"_parent\"><img src=\"https://colab.research.google.com/assets/colab-badge.svg\" alt=\"Open In Colab\"/></a>"
      ]
    },
    {
      "cell_type": "code",
      "execution_count": null,
      "metadata": {
        "id": "0Nehee7CXEK4",
        "colab": {
          "base_uri": "https://localhost:8080/"
        },
        "outputId": "bdaba20b-9f83-4223-b9e5-ce325492f04c"
      },
      "outputs": [
        {
          "output_type": "stream",
          "name": "stdout",
          "text": [
            "입력값 : 미역국\n",
            "출력값 : 국역미\n",
            "입력하신 단어는 회문이 아닙니다.\n",
            "단어를 다시 입력하세요\n",
            "입력값 : 미역미\n",
            "출력값 : 미역미\n",
            "입력하신 단어는 회문이 맞습니다.\n"
          ]
        }
      ],
      "source": [
        "while True: #회문이 아닌 경우에 다시 시도하기 위해 while 문으로 작성\n",
        "  a=input('입력값 : ')\n",
        "  b=a[len(a)::-1]  #시작하는 글자를 명확히 하고자 len(a)을 사용함\n",
        "\n",
        "  if a==b:\n",
        "    print('출력값 : ',b,'\\n입력하신 단어는 회문이 맞습니다.', sep=\"\")\n",
        "    break  #정확히 나온 경우 결과값으로 끝내기 위해 break를 사용함\n",
        "  else:\n",
        "    print('출력값 : ',b,'\\n입력하신 단어는 회문이 아닙니다.\\n단어를 다시 입력하세요', sep=\"\")\n",
        "\n",
        ".#막상 사용하려니 명령어가 생각이 나지 않았고 세심하게 사용하려니 힘들었다. 더 공부해야겠다고 생각함.\n"
      ]
    },
    {
      "cell_type": "code",
      "source": [],
      "metadata": {
        "id": "e1zKVkX4g7YQ"
      },
      "execution_count": null,
      "outputs": []
    }
  ]
}