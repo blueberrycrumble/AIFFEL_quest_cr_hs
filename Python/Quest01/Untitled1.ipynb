{
  "nbformat": 4,
  "nbformat_minor": 0,
  "metadata": {
    "colab": {
      "provenance": [],
      "include_colab_link": true
    },
    "kernelspec": {
      "name": "python3",
      "display_name": "Python 3"
    },
    "language_info": {
      "name": "python"
    }
  },
  "cells": [
    {
      "cell_type": "markdown",
      "metadata": {
        "id": "view-in-github",
        "colab_type": "text"
      },
      "source": [
        "<a href=\"https://colab.research.google.com/github/euns-tory/AIFFEL_quest_cr/blob/main/Python/Quest01/Untitled1.ipynb\" target=\"_parent\"><img src=\"https://colab.research.google.com/assets/colab-badge.svg\" alt=\"Open In Colab\"/></a>"
      ]
    },
    {
      "cell_type": "code",
      "execution_count": null,
      "metadata": {
        "id": "0Nehee7CXEK4",
        "colab": {
          "base_uri": "https://localhost:8080/"
        },
        "outputId": "9bf09961-226d-4255-e198-0b472b43f2a9"
      },
      "outputs": [
        {
          "output_type": "stream",
          "name": "stdout",
          "text": [
            "입력값 : 가나다\n",
            "출력값 : 다나가\n",
            "입력하신 단어는 회문이 아닙니다.\n",
            "단어를 다시 입력하세요\n",
            "입력값 : 가나가\n",
            "출력값 : 가나가\n",
            "입력하신 단어는 회문이 맞습니다.\n"
          ]
        }
      ],
      "source": [
        "while True:\n",
        "  a=input('입력값 : ')\n",
        "  b=a[len(a)::-1]\n",
        "\n",
        "  if a==b:\n",
        "    print('출력값 : ',b,'\\n입력하신 단어는 회문이 맞습니다.', sep=\"\")\n",
        "    break\n",
        "  else:\n",
        "    print('출력값 : ',b, '\\n입력하신 단어는 회문이 아닙니다.\\n단어를 다시 입력하세요', sep=\"\")\n"
      ]
    },
    {
      "cell_type": "code",
      "source": [],
      "metadata": {
        "id": "e1zKVkX4g7YQ"
      },
      "execution_count": null,
      "outputs": []
    }
  ]
}